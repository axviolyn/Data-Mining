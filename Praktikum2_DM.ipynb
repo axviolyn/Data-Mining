{
  "nbformat": 4,
  "nbformat_minor": 0,
  "metadata": {
    "colab": {
      "provenance": [],
      "authorship_tag": "ABX9TyPApNeoO7X47o5GPe0EUQKx",
      "include_colab_link": true
    },
    "kernelspec": {
      "name": "python3",
      "display_name": "Python 3"
    },
    "language_info": {
      "name": "python"
    }
  },
  "cells": [
    {
      "cell_type": "markdown",
      "metadata": {
        "id": "view-in-github",
        "colab_type": "text"
      },
      "source": [
        "<a href=\"https://colab.research.google.com/github/axviolyn/Data-Mining/blob/main/Praktikum2_DM.ipynb\" target=\"_parent\"><img src=\"https://colab.research.google.com/assets/colab-badge.svg\" alt=\"Open In Colab\"/></a>"
      ]
    },
    {
      "cell_type": "code",
      "execution_count": null,
      "metadata": {
        "colab": {
          "base_uri": "https://localhost:8080/"
        },
        "id": "9__jBRd6ggcL",
        "outputId": "e08986ea-f3f4-44dc-cb4c-ffa24c9e7717"
      },
      "outputs": [
        {
          "output_type": "stream",
          "name": "stdout",
          "text": [
            "     Gender  Height  Weight  Index\n",
            "0      Male     174      96      4\n",
            "1      Male     189      87      2\n",
            "2    Female     185     110      4\n",
            "3    Female     195     104      3\n",
            "4      Male     149      61      3\n",
            "..      ...     ...     ...    ...\n",
            "495  Female     150     153      5\n",
            "496  Female     184     121      4\n",
            "497  Female     141     136      5\n",
            "498    Male     150      95      5\n",
            "499    Male     173     131      5\n",
            "\n",
            "[500 rows x 4 columns]\n"
          ]
        }
      ],
      "source": [
        "import pandas as pd\n",
        "import matplotlib.pyplot as plt\n",
        "\n",
        "# Menampilkan seluruh data\n",
        "df = pd.read_csv('/content/500_Person_Gender_Height_Weight_Index (1).csv')\n",
        "print(df)"
      ]
    },
    {
      "cell_type": "code",
      "source": [
        "# Menghitung jumlah data, rata-rata, maks, dan min\n",
        "stats = df.groupby('Gender')[['Weight','Height']].describe()\n",
        "print(stats)"
      ],
      "metadata": {
        "colab": {
          "base_uri": "https://localhost:8080/"
        },
        "id": "ojpPTp3Khov4",
        "outputId": "62401074-fda7-4acd-a492-075a54698367"
      },
      "execution_count": null,
      "outputs": [
        {
          "output_type": "stream",
          "name": "stdout",
          "text": [
            "       Weight                                                         Height  \\\n",
            "        count        mean        std   min   25%    50%    75%    max  count   \n",
            "Gender                                                                         \n",
            "Female  255.0  105.698039  32.962025  50.0  79.0  106.0  135.0  160.0  255.0   \n",
            "Male    245.0  106.314286  31.832734  50.0  80.0  105.0  137.0  160.0  245.0   \n",
            "\n",
            "                                                                  \n",
            "              mean        std    min    25%    50%    75%    max  \n",
            "Gender                                                            \n",
            "Female  170.227451  15.711825  140.0  157.0  170.0  184.0  199.0  \n",
            "Male    169.648980  17.065665  140.0  154.0  171.0  183.0  199.0  \n"
          ]
        }
      ]
    },
    {
      "cell_type": "code",
      "source": [
        "# Mengubah kolom gender menjadi data binary\n",
        "df['Gender'] = df['Gender'].map({'Female': 0, 'Male': 1})\n",
        "print(df)"
      ],
      "metadata": {
        "colab": {
          "base_uri": "https://localhost:8080/"
        },
        "id": "i9muIi5hiVs5",
        "outputId": "a9c85bf3-3874-4bf6-840a-0a68c429a8a0"
      },
      "execution_count": null,
      "outputs": [
        {
          "output_type": "stream",
          "name": "stdout",
          "text": [
            "     Gender  Height  Weight  Index\n",
            "0         1     174      96      4\n",
            "1         1     189      87      2\n",
            "2         0     185     110      4\n",
            "3         0     195     104      3\n",
            "4         1     149      61      3\n",
            "..      ...     ...     ...    ...\n",
            "495       0     150     153      5\n",
            "496       0     184     121      4\n",
            "497       0     141     136      5\n",
            "498       1     150      95      5\n",
            "499       1     173     131      5\n",
            "\n",
            "[500 rows x 4 columns]\n"
          ]
        }
      ]
    },
    {
      "cell_type": "code",
      "source": [
        "# Menampilkan grafik BMI\n",
        "df['BMI'] = df['Weight'] / (df['Height'] / 100) ** 2\n",
        "plt.figure(figsize=(8,6))\n",
        "plt.hist(df[df['Gender'] == 0]['BMI'], alpha=0.5, label='Female')\n",
        "plt.hist(df[df['Gender'] == 1]['BMI'], alpha=0.5, label='Male')\n",
        "plt.title('Grafik Index BMI Berdasarkan Gender')\n",
        "plt.xlabel('BMI')\n",
        "plt.ylabel('Frekuensi')\n",
        "plt.legend()\n",
        "plt.show()"
      ],
      "metadata": {
        "colab": {
          "base_uri": "https://localhost:8080/",
          "height": 564
        },
        "id": "ICR-T2uhikeE",
        "outputId": "eda68fe0-a133-43cd-e3f1-88ba4d29eaf1"
      },
      "execution_count": 46,
      "outputs": [
        {
          "output_type": "display_data",
          "data": {
            "text/plain": [
              "<Figure size 800x600 with 1 Axes>"
            ],
            "image/png": "[encoded data removed]"
          },
          "metadata": {}
        }
      ]
    }
  ]
}