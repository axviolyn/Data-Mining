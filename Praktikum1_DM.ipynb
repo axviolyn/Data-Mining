{
  "nbformat": 4,
  "nbformat_minor": 0,
  "metadata": {
    "colab": {
      "provenance": [],
      "mount_file_id": "17IGUp_oQl2iYLio9D4WX1dxYI_C9EgWn",
      "authorship_tag": "ABX9TyPBV9eVNt29bz+3KyTqTFX6",
      "include_colab_link": true
    },
    "kernelspec": {
      "name": "python3",
      "display_name": "Python 3"
    },
    "language_info": {
      "name": "python"
    }
  },
  "cells": [
    {
      "cell_type": "markdown",
      "metadata": {
        "id": "view-in-github",
        "colab_type": "text"
      },
      "source": [
        "<a href=\"https://colab.research.google.com/github/axviolyn/Data-Mining/blob/main/Praktikum1_DM.ipynb\" target=\"_parent\"><img src=\"https://colab.research.google.com/assets/colab-badge.svg\" alt=\"Open In Colab\"/></a>"
      ]
    },
    {
      "cell_type": "code",
      "execution_count": null,
      "metadata": {
        "colab": {
          "base_uri": "https://localhost:8080/"
        },
        "id": "PaHEDiQA_Vgp",
        "outputId": "3fd805ee-61f4-4d8e-d85b-71748caa8d49"
      },
      "outputs": [
        {
          "output_type": "stream",
          "name": "stdout",
          "text": [
            "Object Creation:\n",
            "Series:\n",
            "0    1.0\n",
            "1    3.0\n",
            "2    5.0\n",
            "3    NaN\n",
            "4    6.0\n",
            "5    8.0\n",
            "dtype: float64\n",
            "\n",
            "DataFrame:\n",
            "                   A         B         C         D\n",
            "2023-10-01 -0.024942  0.150210  1.104263 -0.333082\n",
            "2023-10-02 -0.439598  2.014506 -0.293742  0.576650\n",
            "2023-10-03  0.557978 -2.816086 -0.085182  2.409620\n",
            "2023-10-04 -2.591361 -0.671936 -0.619831  0.868351\n",
            "2023-10-05  0.396668  0.801699  1.735941  0.696855\n",
            "2023-10-06  2.004469 -0.728283  0.405580  1.189145\n",
            "==================================================\n"
          ]
        }
      ],
      "source": [
        "import pandas as pd\n",
        "import numpy as np\n",
        "\n",
        "# Object Creation\n",
        "s = pd.Series([1, 3, 5, np.nan, 6, 8])\n",
        "dates = pd.date_range('2023-10-01', periods=6)\n",
        "df = pd.DataFrame(np.random.randn(6, 4), index=dates, columns=list('ABCD'))\n",
        "\n",
        "print(\"Object Creation:\")\n",
        "print(\"Series:\")\n",
        "print(s)\n",
        "print(\"\\nDataFrame:\")\n",
        "print(df)\n",
        "print(\"=\"*50)\n"
      ]
    },
    {
      "cell_type": "code",
      "source": [
        "# Viewing Data\n",
        "print(\"Viewing Data:\")\n",
        "print(\"First 3 rows:\")\n",
        "print(df.head(3))\n",
        "print(\"\\nLast 2 rows:\")\n",
        "print(df.tail(2))\n",
        "print(\"\\nIndex and Columns:\")\n",
        "print(df.index)\n",
        "print(df.columns)\n",
        "print(\"=\"*40)"
      ],
      "metadata": {
        "colab": {
          "base_uri": "https://localhost:8080/"
        },
        "id": "vT6yqNF1CLPJ",
        "outputId": "140d4cea-c12f-4d00-9dde-425b51696c74"
      },
      "execution_count": null,
      "outputs": [
        {
          "output_type": "stream",
          "name": "stdout",
          "text": [
            "Viewing Data:\n",
            "First 3 rows:\n",
            "                   A         B         C         D\n",
            "2023-10-01 -0.024942  0.150210  1.104263 -0.333082\n",
            "2023-10-02 -0.439598  2.014506 -0.293742  0.576650\n",
            "2023-10-03  0.557978 -2.816086 -0.085182  2.409620\n",
            "\n",
            "Last 2 rows:\n",
            "                   A         B         C         D\n",
            "2023-10-05  0.396668  0.801699  1.735941  0.696855\n",
            "2023-10-06  2.004469 -0.728283  0.405580  1.189145\n",
            "\n",
            "Index and Columns:\n",
            "DatetimeIndex(['2023-10-01', '2023-10-02', '2023-10-03', '2023-10-04',\n",
            "               '2023-10-05', '2023-10-06'],\n",
            "              dtype='datetime64[ns]', freq='D')\n",
            "Index(['A', 'B', 'C', 'D'], dtype='object')\n",
            "========================================\n"
          ]
        }
      ]
    },
    {
      "cell_type": "code",
      "source": [
        "# Selection\n",
        "print(\"Selection:\")\n",
        "print(\"Selecting a column (A):\")\n",
        "print(df['A'])\n",
        "print(\"\\nSelecting by label (row 0):\")\n",
        "print(df.loc[dates[0]])\n",
        "print(\"\\nSelecting by position (row 1):\")\n",
        "print(df.iloc[1])\n",
        "print(\"n\\Selecting a subset of rows and columns:\")\n",
        "print(df.loc[dates[1:3], ['A', 'B']])\n",
        "print(\"=\"*40)"
      ],
      "metadata": {
        "colab": {
          "base_uri": "https://localhost:8080/"
        },
        "id": "tnwgbDPNEYvY",
        "outputId": "db35fdac-c709-4851-8ffe-0941d83ac65a"
      },
      "execution_count": null,
      "outputs": [
        {
          "output_type": "stream",
          "name": "stdout",
          "text": [
            "Selection:\n",
            "Selecting a column (A):\n",
            "2023-10-01   -0.024942\n",
            "2023-10-02   -0.439598\n",
            "2023-10-03    0.557978\n",
            "2023-10-04   -2.591361\n",
            "2023-10-05    0.396668\n",
            "2023-10-06    2.004469\n",
            "Freq: D, Name: A, dtype: float64\n",
            "\n",
            "Selecting by label (row 0):\n",
            "A   -0.024942\n",
            "B    0.150210\n",
            "C    1.104263\n",
            "D   -0.333082\n",
            "Name: 2023-10-01 00:00:00, dtype: float64\n",
            "\n",
            "Selecting by position (row 1):\n",
            "A   -0.439598\n",
            "B    2.014506\n",
            "C   -0.293742\n",
            "D    0.576650\n",
            "Name: 2023-10-02 00:00:00, dtype: float64\n",
            "n\\Selecting a subset of rows and columns:\n",
            "                   A         B\n",
            "2023-10-02 -0.439598  2.014506\n",
            "2023-10-03  0.557978 -2.816086\n",
            "========================================\n"
          ]
        }
      ]
    },
    {
      "cell_type": "code",
      "source": [
        "# Missing Data\n",
        "df1 = df.reindex(index=dates[0:4], columns=list(df.columns) + ['E'])\n",
        "df1.loc[dates[0]:dates[1], 'E'] = 1\n",
        "\n",
        "print(\"Missing Data:\")\n",
        "print(\"DataFrame with missing values:\")\n",
        "print(df1)\n",
        "print(\"\\nDropping rows with missing values:\")\n",
        "print(df1.dropna())\n",
        "print(\"\\nFilling missing values:\")\n",
        "print(df1.fillna(value=0))\n",
        "print(\"=\"*60)"
      ],
      "metadata": {
        "colab": {
          "base_uri": "https://localhost:8080/"
        },
        "id": "2hR0i8p2F_J_",
        "outputId": "64c93f83-1235-4f3e-80af-f5ad85a6f149"
      },
      "execution_count": null,
      "outputs": [
        {
          "output_type": "stream",
          "name": "stdout",
          "text": [
            "Missing Data:\n",
            "DataFrame with missing values:\n",
            "                   A         B         C         D    E\n",
            "2023-10-01 -0.024942  0.150210  1.104263 -0.333082  1.0\n",
            "2023-10-02 -0.439598  2.014506 -0.293742  0.576650  1.0\n",
            "2023-10-03  0.557978 -2.816086 -0.085182  2.409620  NaN\n",
            "2023-10-04 -2.591361 -0.671936 -0.619831  0.868351  NaN\n",
            "\n",
            "Dropping rows with missing values:\n",
            "                   A         B         C         D    E\n",
            "2023-10-01 -0.024942  0.150210  1.104263 -0.333082  1.0\n",
            "2023-10-02 -0.439598  2.014506 -0.293742  0.576650  1.0\n",
            "\n",
            "Filling missing values:\n",
            "                   A         B         C         D    E\n",
            "2023-10-01 -0.024942  0.150210  1.104263 -0.333082  1.0\n",
            "2023-10-02 -0.439598  2.014506 -0.293742  0.576650  1.0\n",
            "2023-10-03  0.557978 -2.816086 -0.085182  2.409620  0.0\n",
            "2023-10-04 -2.591361 -0.671936 -0.619831  0.868351  0.0\n",
            "============================================================\n"
          ]
        }
      ]
    },
    {
      "cell_type": "code",
      "source": [
        "# Operations\n",
        "print(\"Operations:\")\n",
        "print(\"Mean of each column:\")\n",
        "print(df.mean())\n",
        "print(\"\\nSum of each row:\")\n",
        "print(df.sum(axis=1))\n",
        "print(\"=\"*40)"
      ],
      "metadata": {
        "colab": {
          "base_uri": "https://localhost:8080/"
        },
        "id": "mGhDvhRvHbap",
        "outputId": "0369bb79-d61b-48a2-828a-958e674c1eb5"
      },
      "execution_count": null,
      "outputs": [
        {
          "output_type": "stream",
          "name": "stdout",
          "text": [
            "Operations:\n",
            "Mean of each column:\n",
            "A   -0.016131\n",
            "B   -0.208315\n",
            "C    0.374505\n",
            "D    0.901257\n",
            "dtype: float64\n",
            "\n",
            "Sum of each row:\n",
            "2023-10-01    0.896448\n",
            "2023-10-02    1.857816\n",
            "2023-10-03    0.066330\n",
            "2023-10-04   -3.014777\n",
            "2023-10-05    3.631162\n",
            "2023-10-06    2.870911\n",
            "Freq: D, dtype: float64\n",
            "========================================\n"
          ]
        }
      ]
    },
    {
      "cell_type": "code",
      "source": [
        "# Merge\n",
        "left = pd.DataFrame({'key': ['K0', 'K1', 'K2', 'K3'], 'A' : ['A0', 'A1', 'A2', 'A3'], 'B' : ['B0', 'B1', 'B2', 'B3']})\n",
        "right = pd.DataFrame({'key': ['K0', 'K1', 'K2', 'K3'], 'C': ['C0', 'C1', 'C2', 'C3'], 'D': ['D0', 'D1', 'D2', 'D3']})\n",
        "merged_df = pd.merge(left, right, on='key')\n",
        "\n",
        "print(\"Merge:\")\n",
        "print(\"Merged DataFrame:\")\n",
        "print(merged_df)\n",
        "print(\"=\"*40)"
      ],
      "metadata": {
        "colab": {
          "base_uri": "https://localhost:8080/"
        },
        "id": "USUmnxUbI3XR",
        "outputId": "b5f7126c-cbe0-4f94-b4d6-2dc1d126b239"
      },
      "execution_count": null,
      "outputs": [
        {
          "output_type": "stream",
          "name": "stdout",
          "text": [
            "Merge:\n",
            "Merged DataFrame:\n",
            "  key   A   B   C   D\n",
            "0  K0  A0  B0  C0  D0\n",
            "1  K1  A1  B1  C1  D1\n",
            "2  K2  A2  B2  C2  D2\n",
            "3  K3  A3  B3  C3  D3\n",
            "========================================\n"
          ]
        }
      ]
    },
    {
      "cell_type": "code",
      "source": [
        "# Grouping\n",
        "grouped = df.groupby('A').sum()\n",
        "print(\"Grouping:\")\n",
        "print(\"Grouped DataFrame:\")\n",
        "print(grouped)\n",
        "print(\"=*40\")"
      ],
      "metadata": {
        "colab": {
          "base_uri": "https://localhost:8080/"
        },
        "id": "7EGPr28ALYNA",
        "outputId": "c7a43912-b729-4594-8d78-cf37d080db47"
      },
      "execution_count": null,
      "outputs": [
        {
          "output_type": "stream",
          "name": "stdout",
          "text": [
            "Grouping:\n",
            "Grouped DataFrame:\n",
            "                  B         C         D\n",
            "A                                      \n",
            "-2.591361 -0.671936 -0.619831  0.868351\n",
            "-0.439598  2.014506 -0.293742  0.576650\n",
            "-0.024942  0.150210  1.104263 -0.333082\n",
            " 0.396668  0.801699  1.735941  0.696855\n",
            " 0.557978 -2.816086 -0.085182  2.409620\n",
            " 2.004469 -0.728283  0.405580  1.189145\n",
            "=*40\n"
          ]
        }
      ]
    },
    {
      "cell_type": "code",
      "source": [
        "# Reshaping\n",
        "stacked = df.stack()\n",
        "unstacked = stacked.unstack()\n",
        "\n",
        "print(\"Reshaping:\")\n",
        "print(\"Stacked DataFrame:\")\n",
        "print(stacked)\n",
        "print(\"\\nUnstacked DataFrame:\")\n",
        "print(unstacked)\n",
        "print(\"=\"*40)"
      ],
      "metadata": {
        "colab": {
          "base_uri": "https://localhost:8080/"
        },
        "id": "UndIXZvYMMcm",
        "outputId": "139afb22-4a4e-417a-fb76-e7d2169eb2a6"
      },
      "execution_count": null,
      "outputs": [
        {
          "output_type": "stream",
          "name": "stdout",
          "text": [
            "Reshaping:\n",
            "Stacked DataFrame:\n",
            "2023-10-01  A   -0.024942\n",
            "            B    0.150210\n",
            "            C    1.104263\n",
            "            D   -0.333082\n",
            "2023-10-02  A   -0.439598\n",
            "            B    2.014506\n",
            "            C   -0.293742\n",
            "            D    0.576650\n",
            "2023-10-03  A    0.557978\n",
            "            B   -2.816086\n",
            "            C   -0.085182\n",
            "            D    2.409620\n",
            "2023-10-04  A   -2.591361\n",
            "            B   -0.671936\n",
            "            C   -0.619831\n",
            "            D    0.868351\n",
            "2023-10-05  A    0.396668\n",
            "            B    0.801699\n",
            "            C    1.735941\n",
            "            D    0.696855\n",
            "2023-10-06  A    2.004469\n",
            "            B   -0.728283\n",
            "            C    0.405580\n",
            "            D    1.189145\n",
            "dtype: float64\n",
            "\n",
            "Unstacked DataFrame:\n",
            "                   A         B         C         D\n",
            "2023-10-01 -0.024942  0.150210  1.104263 -0.333082\n",
            "2023-10-02 -0.439598  2.014506 -0.293742  0.576650\n",
            "2023-10-03  0.557978 -2.816086 -0.085182  2.409620\n",
            "2023-10-04 -2.591361 -0.671936 -0.619831  0.868351\n",
            "2023-10-05  0.396668  0.801699  1.735941  0.696855\n",
            "2023-10-06  2.004469 -0.728283  0.405580  1.189145\n",
            "========================================\n"
          ]
        }
      ]
    },
    {
      "cell_type": "code",
      "source": [
        "# Time Series\n",
        "ts = pd.Series(np.random.randn(1000), index=pd.date_range('2023-01-01', periods=1000))\n",
        "cumulative_sum = ts.cumsum()\n",
        "\n",
        "print(\"Time Series:\")\n",
        "print(ts.head())\n",
        "print(\"\\nCumulative Sum:\")\n",
        "print(cumulative_sum.head())\n",
        "print(\"=\"*40)"
      ],
      "metadata": {
        "colab": {
          "base_uri": "https://localhost:8080/"
        },
        "id": "POQGKSagM65o",
        "outputId": "d9d4e045-5cc4-4884-bbc5-def34d05a643"
      },
      "execution_count": null,
      "outputs": [
        {
          "output_type": "stream",
          "name": "stdout",
          "text": [
            "Time Series:\n",
            "2023-01-01   -0.312313\n",
            "2023-01-02   -0.550826\n",
            "2023-01-03    1.020975\n",
            "2023-01-04   -0.990558\n",
            "2023-01-05   -1.488384\n",
            "Freq: D, dtype: float64\n",
            "\n",
            "Cumulative Sum:\n",
            "2023-01-01   -0.312313\n",
            "2023-01-02   -0.863139\n",
            "2023-01-03    0.157836\n",
            "2023-01-04   -0.832722\n",
            "2023-01-05   -2.321106\n",
            "Freq: D, dtype: float64\n",
            "========================================\n"
          ]
        }
      ]
    },
    {
      "cell_type": "code",
      "source": [
        "# Categoricals\n",
        "import pandas as pd\n",
        "\n",
        "# Create a categorical Series\n",
        "s = pd.Series([\"cat\", \"dog\", \"bird\", \"cat\", \"dog\"], dtype=\"category\")\n",
        "\n",
        "# Define new categories\n",
        "new_categories = [\"Category 1\", \"Category 2\", \"Category 3\"]\n",
        "\n",
        "# Create a new categorycal Series with the new categories\n",
        "s_new = s.cat.set_categories(new_categories)\n",
        "\n",
        "print(\"Categoricals:\")\n",
        "print(\"Original Categorical Series:\")\n",
        "print(s)\n",
        "print(\"\\nNew Categorical Series with updated categories:\")\n",
        "print(s_new)"
      ],
      "metadata": {
        "colab": {
          "base_uri": "https://localhost:8080/"
        },
        "id": "iiFLt4UNNvL1",
        "outputId": "97248f00-2b83-4db2-b0de-34de36c9add3"
      },
      "execution_count": null,
      "outputs": [
        {
          "output_type": "stream",
          "name": "stdout",
          "text": [
            "Categoricals:\n",
            "Original Categorical Series:\n",
            "0     cat\n",
            "1     dog\n",
            "2    bird\n",
            "3     cat\n",
            "4     dog\n",
            "dtype: category\n",
            "Categories (3, object): ['bird', 'cat', 'dog']\n",
            "\n",
            "New Categorical Series with updated categories:\n",
            "0    NaN\n",
            "1    NaN\n",
            "2    NaN\n",
            "3    NaN\n",
            "4    NaN\n",
            "dtype: category\n",
            "Categories (3, object): ['Category 1', 'Category 2', 'Category 3']\n"
          ]
        }
      ]
    },
    {
      "cell_type": "code",
      "source": [
        "import matplotlib.pyplot as plt\n",
        "#Plotting\n",
        "df.plot()\n",
        "plt.show()\n",
        "\n",
        "print(\"Plotting:\")\n",
        "print(\"=\"*40)\n"
      ],
      "metadata": {
        "colab": {
          "base_uri": "https://localhost:8080/",
          "height": 497
        },
        "id": "trkkFgMiPH4m",
        "outputId": "7af929b7-04b2-4702-a235-20d1b1a979f8"
      },
      "execution_count": null,
      "outputs": [
        {
          "output_type": "display_data",
          "data": {
            "text/plain": [
              "<Figure size 640x480 with 1 Axes>"
            ],
            "image/png": "[encoded data removed]"
          },
          "metadata": {}
        },
        {
          "output_type": "stream",
          "name": "stdout",
          "text": [
            "Plotting:\n",
            "========================================\n"
          ]
        }
      ]
    },
    {
      "cell_type": "code",
      "source": [
        "# Importing and Exporting Data\n",
        "imported_df = pd.read_csv('/content/sample_data.xls')\n",
        "\n",
        "print(\"Importing and Exporting Data:\")\n",
        "print(\"Exported DataFrame to CSV:\")\n",
        "print(df)\n",
        "print(\"\\nImported DataFrame from CSV:\")\n",
        "print(imported_df)\n",
        "print(\"=\"*40)\n",
        "df.to_csv('sample_data2.csv')"
      ],
      "metadata": {
        "colab": {
          "base_uri": "https://localhost:8080/"
        },
        "id": "mqbBqY5PRHYM",
        "outputId": "16cd3ff6-e37f-41d7-92ed-e1fb8322bc9b"
      },
      "execution_count": null,
      "outputs": [
        {
          "output_type": "stream",
          "name": "stdout",
          "text": [
            "Importing and Exporting Data:\n",
            "Exported DataFrame to CSV:\n",
            "                   A         B         C         D\n",
            "2023-10-01 -0.024942  0.150210  1.104263 -0.333082\n",
            "2023-10-02 -0.439598  2.014506 -0.293742  0.576650\n",
            "2023-10-03  0.557978 -2.816086 -0.085182  2.409620\n",
            "2023-10-04 -2.591361 -0.671936 -0.619831  0.868351\n",
            "2023-10-05  0.396668  0.801699  1.735941  0.696855\n",
            "2023-10-06  2.004469 -0.728283  0.405580  1.189145\n",
            "\n",
            "Imported DataFrame from CSV:\n",
            "    SUBJECT Stim1 Stim2  Response\n",
            "0         1     B     D         5\n",
            "1         1     A     B         1\n",
            "2         1     B     C         7\n",
            "3         2     A     C         3\n",
            "4         2     A     B         2\n",
            "5         2     B     C         6\n",
            "6         3     B     C         6\n",
            "7         3     C     D         5\n",
            "8         3     A     B         3\n",
            "9         4     B     D         2\n",
            "10        4     A     D         2\n",
            "11        4     B     C         5\n",
            "12        5     C     D         6\n",
            "13        5     A     D         1\n",
            "14        5     A     B         2\n",
            "15        6     A     B         2\n",
            "16        6     A     D         2\n",
            "17        6     B     D         3\n",
            "18        7     A     D         1\n",
            "19        7     B     D         5\n",
            "20        7     A     B         1\n",
            "21        8     C     D         5\n",
            "22        8     A     C         4\n",
            "23        8     A     B         3\n",
            "24        9     A     D         2\n",
            "25        9     A     B         1\n",
            "26        9     C     D         5\n",
            "27       10     A     C         5\n",
            "28       10     B     C         7\n",
            "29       10     A     B         2\n",
            "========================================\n"
          ]
        }
      ]
    }
  ]
}