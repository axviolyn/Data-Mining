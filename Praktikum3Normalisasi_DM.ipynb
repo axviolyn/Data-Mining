{
  "nbformat": 4,
  "nbformat_minor": 0,
  "metadata": {
    "colab": {
      "provenance": [],
      "authorship_tag": "ABX9TyP3RwcpePrgniG/gEvVoecr",
      "include_colab_link": true
    },
    "kernelspec": {
      "name": "python3",
      "display_name": "Python 3"
    },
    "language_info": {
      "name": "python"
    }
  },
  "cells": [
    {
      "cell_type": "markdown",
      "metadata": {
        "id": "view-in-github",
        "colab_type": "text"
      },
      "source": [
        "<a href=\"https://colab.research.google.com/github/axviolyn/Data-Mining/blob/main/Praktikum3Normalisasi_DM.ipynb\" target=\"_parent\"><img src=\"https://colab.research.google.com/assets/colab-badge.svg\" alt=\"Open In Colab\"/></a>"
      ]
    },
    {
      "cell_type": "code",
      "execution_count": 1,
      "metadata": {
        "colab": {
          "base_uri": "https://localhost:8080/"
        },
        "id": "nMwsWU3kOskA",
        "outputId": "b4ad365b-10f0-46b7-a389-250e2ea524ed"
      },
      "outputs": [
        {
          "output_type": "stream",
          "name": "stdout",
          "text": [
            "Data asli:\n",
            "[[2. 5.]\n",
            " [1. 4.]\n",
            " [3. 6.]]\n",
            "\n",
            "Data setelah Min-Max Scaling:\n",
            "[[0.5 0.5]\n",
            " [0.  0. ]\n",
            " [1.  1. ]]\n"
          ]
        }
      ],
      "source": [
        " import numpy as np\n",
        " from sklearn.preprocessing import MinMaxScaler\n",
        "\n",
        " #Data contoh(ganti dengan data anda)\n",
        " data = np.array([[2.0, 5.0],\n",
        "               [1.0, 4.0],\n",
        "               [3.0, 6.0]])\n",
        "\n",
        "# Inisialisai objek MinMaxScaler\n",
        "scaler = MinMaxScaler()\n",
        "\n",
        "# Fit dan transformasi data menggunakan min-max scaling\n",
        "scaled_data = scaler.fit_transform(data)\n",
        "\n",
        "print(\"Data asli:\")\n",
        "print(data)\n",
        "\n",
        "print(\"\\nData setelah Min-Max Scaling:\")\n",
        "print(scaled_data)\n"
      ]
    },
    {
      "cell_type": "code",
      "source": [
        "import numpy as np\n",
        "from sklearn.preprocessing import StandardScaler\n",
        "\n",
        "# Data contoh\n",
        "data = np.array([[2.0, 5.0],\n",
        "                 [1.0, 4.0],\n",
        "                 [3.0, 6.0]])\n",
        "\n",
        "# Inisialisai objek standarscaler\n",
        "scaler = StandardScaler()\n",
        "\n",
        "# Fit dan transformasi data menggunakan min-max scaling\n",
        "z_score_data = scaler.fit_transform(data)\n",
        "\n",
        "print(\"Data asli:\")\n",
        "print(data)\n",
        "\n",
        "print(\"\\nData setelah Z-Score Transformation:\")\n",
        "print(z_score_data)"
      ],
      "metadata": {
        "colab": {
          "base_uri": "https://localhost:8080/"
        },
        "id": "Qc4VM3QRQeeH",
        "outputId": "a960318f-c8c6-4fcd-a8f9-8d8d7232d357"
      },
      "execution_count": 2,
      "outputs": [
        {
          "output_type": "stream",
          "name": "stdout",
          "text": [
            "Data asli:\n",
            "[[2. 5.]\n",
            " [1. 4.]\n",
            " [3. 6.]]\n",
            "\n",
            "Data setelah Z-Score Transformation:\n",
            "[[ 0.          0.        ]\n",
            " [-1.22474487 -1.22474487]\n",
            " [ 1.22474487  1.22474487]]\n"
          ]
        }
      ]
    },
    {
      "cell_type": "code",
      "source": [
        "import numpy as np\n",
        "\n",
        "# data contoh\n",
        "data = np.array([200, 300, 400, 500, 600])\n",
        "\n",
        "# Menentukan faktor penggeseran (scaling factor),\n",
        "# Misalnya 1000 untuk mengubah ke tentang 0-1\n",
        "scaling_factor = 1000\n",
        "\n",
        "# Melakukan transformasi decimal scaling\n",
        "scaled_data = data / scaling_factor\n",
        "\n",
        "print(\"Data asli:\")\n",
        "print(data)\n",
        "\n",
        "print(\"\\nData setelah scaling:\")\n",
        "print(scaled_data)\n"
      ],
      "metadata": {
        "colab": {
          "base_uri": "https://localhost:8080/"
        },
        "id": "sDRYdxGzRKpi",
        "outputId": "48942c34-683d-4395-bb70-350ee757855e"
      },
      "execution_count": 3,
      "outputs": [
        {
          "output_type": "stream",
          "name": "stdout",
          "text": [
            "Data asli:\n",
            "[200 300 400 500 600]\n",
            "\n",
            "Data setelah scaling:\n",
            "[0.2 0.3 0.4 0.5 0.6]\n"
          ]
        }
      ]
    }
  ]
}